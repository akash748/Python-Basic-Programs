{
 "cells": [
  {
   "cell_type": "markdown",
   "metadata": {},
   "source": [
    "# Assignment 21"
   ]
  },
  {
   "cell_type": "markdown",
   "metadata": {},
   "source": [
    "Question 1:Write a function that takes a list and a number as arguments. Add the number to the end of\n",
    "the list, then remove the first element of the list. The function should then return the updated\n",
    "list."
   ]
  },
  {
   "cell_type": "code",
   "execution_count": 1,
   "metadata": {},
   "outputs": [
    {
     "data": {
      "text/plain": [
       "[6, 7, 8, 9, 10]"
      ]
     },
     "execution_count": 1,
     "metadata": {},
     "output_type": "execute_result"
    }
   ],
   "source": [
    "def exchange(a,b):\n",
    "    a.append(b)\n",
    "    a.pop(0)\n",
    "    return a\n",
    "l = [5,6,7,8,9]\n",
    "m = 10\n",
    "exchange(l,m)"
   ]
  },
  {
   "cell_type": "markdown",
   "metadata": {},
   "source": [
    "Question 2:Create the function that takes a list of dictionaries and returns the sum of people's budgets."
   ]
  },
  {
   "cell_type": "code",
   "execution_count": 3,
   "metadata": {},
   "outputs": [
    {
     "data": {
      "text/plain": [
       "65700"
      ]
     },
     "execution_count": 3,
     "metadata": {},
     "output_type": "execute_result"
    }
   ],
   "source": [
    "def get_budgets(a):\n",
    "    bud = 0\n",
    "    for i in a:\n",
    "        bud = bud + i['budget']\n",
    "    return bud\n",
    "l = [{\"name\" : \"John\",\"age\" : 21,\"budget\" : 23000},\n",
    "    {\"name\" : \"Steve\",\"age\" : 32, \"budget\" : 40000},\n",
    "    {\"name\" : \"Gogo\",\"age\" : 42,\"budget\" : 2700}]\n",
    "get_budgets(l)"
   ]
  },
  {
   "cell_type": "markdown",
   "metadata": {},
   "source": [
    "Question 3:Create a function that takes a string and returns a string with its letters in alphabetical order."
   ]
  },
  {
   "cell_type": "code",
   "execution_count": 6,
   "metadata": {},
   "outputs": [
    {
     "data": {
      "text/plain": [
       "'ehllo'"
      ]
     },
     "execution_count": 6,
     "metadata": {},
     "output_type": "execute_result"
    }
   ],
   "source": [
    "def real_sort(a):\n",
    "    b = sorted(a)\n",
    "    p = \"\"\n",
    "    for i in b:\n",
    "        p = p + i\n",
    "    return p    \n",
    "    \n",
    "str1 = \"hello\"\n",
    "real_sort(str1)"
   ]
  },
  {
   "cell_type": "markdown",
   "metadata": {},
   "source": [
    "Question 4:Suppose that you invest $10,000 for 10 years at an interest rate of 6% compounded monthly.\n",
    "What will be the value of your investment at the end of the 10 year period? "
   ]
  },
  {
   "cell_type": "code",
   "execution_count": 17,
   "metadata": {},
   "outputs": [
    {
     "name": "stdout",
     "output_type": "stream",
     "text": [
      "Enter the principal :10000\n",
      "Enter the rate: 0.06\n",
      "Enter the time: 10\n",
      "Enter the number of times compunded in a year: 12\n",
      "18193.97\n"
     ]
    }
   ],
   "source": [
    "def Compoundi(p,r,t,n):\n",
    "    amount = 0\n",
    "    base = 0\n",
    "    \n",
    "    base = (1+(r/n))\n",
    "    amount = ((base) ** (n*t)) * p\n",
    "    return amount\n",
    "princ = float(input(\"Enter the principal :\"))\n",
    "rate = float(input(\"Enter the rate: \"))\n",
    "time = int(input(\"Enter the time: \"))\n",
    "period = int(input(\"Enter the number of times compunded in a year: \"))\n",
    "k = Compoundi(princ,rate,time,period)\n",
    "print(round(k,2))"
   ]
  },
  {
   "cell_type": "markdown",
   "metadata": {},
   "source": [
    "Question 5:Write a function that takes a list of elements and returns only the integers."
   ]
  },
  {
   "cell_type": "code",
   "execution_count": 18,
   "metadata": {},
   "outputs": [
    {
     "data": {
      "text/plain": [
       "[9, 2, 7, 8]"
      ]
     },
     "execution_count": 18,
     "metadata": {},
     "output_type": "execute_result"
    }
   ],
   "source": [
    "def fancy(a):\n",
    "    j = []\n",
    "    for i in  a:\n",
    "        if type(i) == int:\n",
    "            j.append(i)\n",
    "    return j\n",
    "l = [\"a\",\"b\",9,2,\"space\",\"car\",7,8]\n",
    "fancy(l)"
   ]
  },
  {
   "cell_type": "code",
   "execution_count": null,
   "metadata": {},
   "outputs": [],
   "source": []
  }
 ],
 "metadata": {
  "kernelspec": {
   "display_name": "Python 3",
   "language": "python",
   "name": "python3"
  },
  "language_info": {
   "codemirror_mode": {
    "name": "ipython",
    "version": 3
   },
   "file_extension": ".py",
   "mimetype": "text/x-python",
   "name": "python",
   "nbconvert_exporter": "python",
   "pygments_lexer": "ipython3",
   "version": "3.8.3"
  }
 },
 "nbformat": 4,
 "nbformat_minor": 4
}
