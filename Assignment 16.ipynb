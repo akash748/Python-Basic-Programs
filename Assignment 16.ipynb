{
 "cells": [
  {
   "cell_type": "markdown",
   "metadata": {},
   "source": [
    "# Assignment 16"
   ]
  },
  {
   "cell_type": "markdown",
   "metadata": {},
   "source": [
    "Question 1:Write a function that stutters a word as if someone is struggling to read it. The\n",
    "first two letters are repeated twice with an ellipsis ... and space after each, and then the\n",
    "word is pronounced with a question mark ?."
   ]
  },
  {
   "cell_type": "code",
   "execution_count": 2,
   "metadata": {},
   "outputs": [
    {
     "name": "stdout",
     "output_type": "stream",
     "text": [
      "incredible\n",
      "in... in...  incredible?\n"
     ]
    }
   ],
   "source": [
    "def stutter(str1):\n",
    "    k = str1[:2] + \"... \" + str1[:2] + \"... \" + \" \" + str1[:] + \"?\"\n",
    "    return k\n",
    "n = input()\n",
    "print(stutter(n))"
   ]
  },
  {
   "cell_type": "markdown",
   "metadata": {},
   "source": [
    "Question 2:Create a function that takes an angle in radians and returns the corresponding\n",
    "angle in degrees rounded to one decimal place."
   ]
  },
  {
   "cell_type": "code",
   "execution_count": 4,
   "metadata": {},
   "outputs": [
    {
     "name": "stdout",
     "output_type": "stream",
     "text": [
      "Enter the value in radian: 2\n"
     ]
    },
    {
     "data": {
      "text/plain": [
       "114.6"
      ]
     },
     "execution_count": 4,
     "metadata": {},
     "output_type": "execute_result"
    }
   ],
   "source": [
    "def radians_to_degrees(k):\n",
    "    degree = k * 57.3\n",
    "    return degree\n",
    "\n",
    "j = float(input(\"Enter the value in radian: \"))\n",
    "radians_to_degrees(j)"
   ]
  },
  {
   "cell_type": "markdown",
   "metadata": {},
   "source": [
    "Question 3: In this challenge, establish if a given integer num is a Curzon number. If 1 plus\n",
    "2 elevated to num is exactly divisible by 1 plus 2 multiplied by num, then num is a Curzon\n",
    "number.\n",
    "Given a non-negative integer num, implement a function that returns True if num is a Curzon\n",
    "number, or False otherwise."
   ]
  },
  {
   "cell_type": "code",
   "execution_count": 7,
   "metadata": {},
   "outputs": [
    {
     "name": "stdout",
     "output_type": "stream",
     "text": [
      "5\n"
     ]
    },
    {
     "data": {
      "text/plain": [
       "True"
      ]
     },
     "execution_count": 7,
     "metadata": {},
     "output_type": "execute_result"
    }
   ],
   "source": [
    "def is_curzon(a):\n",
    "    sum1 = (2 ** a) + 1\n",
    "    div = (2 * a) + 1\n",
    "    if sum1 % div == 0:\n",
    "        return True\n",
    "    else:\n",
    "        return False\n",
    "    \n",
    "n = int(input())\n",
    "is_curzon(n)"
   ]
  },
  {
   "cell_type": "markdown",
   "metadata": {},
   "source": [
    "Question 4:Given the side length x find the area of a hexagon."
   ]
  },
  {
   "cell_type": "code",
   "execution_count": 8,
   "metadata": {},
   "outputs": [
    {
     "name": "stdout",
     "output_type": "stream",
     "text": [
      "1\n"
     ]
    },
    {
     "data": {
      "text/plain": [
       "2.598"
      ]
     },
     "execution_count": 8,
     "metadata": {},
     "output_type": "execute_result"
    }
   ],
   "source": [
    "def area_hex(a):\n",
    "    area = (3 * 1.732 * a * a) * 0.5\n",
    "    return area\n",
    "x = float(input())\n",
    "area_hex(x)\n"
   ]
  },
  {
   "cell_type": "markdown",
   "metadata": {},
   "source": [
    "Question 5:Create a function that returns a base-2 (binary) representation of a base-10\n",
    "(decimal) string number. To convert is simple: ((2) means base-2 and (10) means base-10)\n",
    "010101001(2) = 1 + 8 + 32 + 128.\n",
    "Going from right to left, the value of the most right bit is 1, now from that every bit to the left\n",
    "will be x2 the value, value of an 8 bit binary numbers are (256, 128, 64, 32, 16, 8, 4, 2, 1)."
   ]
  },
  {
   "cell_type": "code",
   "execution_count": 10,
   "metadata": {},
   "outputs": [
    {
     "name": "stdout",
     "output_type": "stream",
     "text": [
      "4\n"
     ]
    },
    {
     "data": {
      "text/plain": [
       "'100'"
      ]
     },
     "execution_count": 10,
     "metadata": {},
     "output_type": "execute_result"
    }
   ],
   "source": [
    "def Binary(x):\n",
    "    y = x\n",
    "    sum1 = \"\"\n",
    "    while y > 0:\n",
    "        k = str(y % 2)\n",
    "        sum1 = k + sum1\n",
    "        y = y // 2\n",
    "        \n",
    "    return sum1\n",
    "n = int(input())\n",
    "Binary(n)"
   ]
  },
  {
   "cell_type": "code",
   "execution_count": null,
   "metadata": {},
   "outputs": [],
   "source": []
  }
 ],
 "metadata": {
  "kernelspec": {
   "display_name": "Python 3",
   "language": "python",
   "name": "python3"
  },
  "language_info": {
   "codemirror_mode": {
    "name": "ipython",
    "version": 3
   },
   "file_extension": ".py",
   "mimetype": "text/x-python",
   "name": "python",
   "nbconvert_exporter": "python",
   "pygments_lexer": "ipython3",
   "version": "3.8.3"
  }
 },
 "nbformat": 4,
 "nbformat_minor": 4
}
