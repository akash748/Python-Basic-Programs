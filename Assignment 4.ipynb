{
 "cells": [
  {
   "cell_type": "markdown",
   "metadata": {},
   "source": [
    "# Assignment 4"
   ]
  },
  {
   "cell_type": "markdown",
   "metadata": {},
   "source": [
    "Question 1 : Find the Factorial of a Number?"
   ]
  },
  {
   "cell_type": "code",
   "execution_count": 6,
   "metadata": {},
   "outputs": [
    {
     "name": "stdout",
     "output_type": "stream",
     "text": [
      "8\n",
      "40320\n"
     ]
    }
   ],
   "source": [
    "def fact(n):\n",
    "    assert n > 0 and int(n) == n,\"Invalid Input\"\n",
    "    if n in [0,1]:\n",
    "        return 1\n",
    "    else:\n",
    "        return n * fact(n-1)\n",
    "    \n",
    "a = int(input())\n",
    "ob1 = fact(a)\n",
    "print(ob1)"
   ]
  },
  {
   "cell_type": "markdown",
   "metadata": {},
   "source": [
    "Question 2 : Display the multiplication Table?"
   ]
  },
  {
   "cell_type": "code",
   "execution_count": 8,
   "metadata": {},
   "outputs": [
    {
     "name": "stdout",
     "output_type": "stream",
     "text": [
      "45\n",
      "0.0\n",
      "45.0\n",
      "90.0\n",
      "135.0\n",
      "180.0\n",
      "225.0\n",
      "270.0\n",
      "315.0\n",
      "360.0\n",
      "405.0\n",
      "450.0\n"
     ]
    }
   ],
   "source": [
    "a = float(input())\n",
    "for i in range(11):\n",
    "    print(i * a)"
   ]
  },
  {
   "cell_type": "markdown",
   "metadata": {},
   "source": [
    "Question 3 : Print the Fibonacci sequence? "
   ]
  },
  {
   "cell_type": "code",
   "execution_count": 10,
   "metadata": {},
   "outputs": [
    {
     "name": "stdout",
     "output_type": "stream",
     "text": [
      "Enter the terms2\n",
      "0\n",
      "1\n"
     ]
    }
   ],
   "source": [
    "term = int(input(\"Enter the terms\"))\n",
    "temp1 = 0\n",
    "temp2 = 1\n",
    "for i in range(term):\n",
    "    print(temp1)\n",
    "    sum = temp1 + temp2\n",
    "    temp1 = temp2\n",
    "    temp2 = sum\n",
    "    sum = 0\n",
    "    "
   ]
  },
  {
   "cell_type": "markdown",
   "metadata": {},
   "source": [
    "Question 4 : Check Armstrong Number?"
   ]
  },
  {
   "cell_type": "code",
   "execution_count": 14,
   "metadata": {},
   "outputs": [
    {
     "name": "stdout",
     "output_type": "stream",
     "text": [
      "153\n",
      "Armstrong Number\n"
     ]
    }
   ],
   "source": [
    "a = input()\n",
    "sum = 0\n",
    "length = len(a)\n",
    "b = int(a)\n",
    "while b > 0:\n",
    "    last = b % 10\n",
    "    sum = sum + last ** length\n",
    "    b = b // 10\n",
    "    \n",
    "if sum == int(a):\n",
    "    print(\"Armstrong Number\")\n",
    "else:\n",
    "    print(\"Not an Armstrong Number\")\n",
    "    \n",
    "    \n",
    "    \n"
   ]
  },
  {
   "cell_type": "markdown",
   "metadata": {},
   "source": [
    "Question 5 : Find Armstrong Number in an Interval?"
   ]
  },
  {
   "cell_type": "code",
   "execution_count": 18,
   "metadata": {},
   "outputs": [
    {
     "name": "stdout",
     "output_type": "stream",
     "text": [
      "Enter the first limit1\n",
      "Enter the second limit5000\n",
      "1\n",
      "2\n",
      "3\n",
      "4\n",
      "5\n",
      "6\n",
      "7\n",
      "8\n",
      "9\n",
      "153\n",
      "370\n",
      "371\n",
      "407\n",
      "1634\n"
     ]
    }
   ],
   "source": [
    "lim1 = int(input(\"Enter the first limit\"))\n",
    "lim2 = int(input(\"Enter the second limit\"))\n",
    "def Arm_strong(a):\n",
    "    a = str(a)\n",
    "    sum = 0\n",
    "    length = len(a)\n",
    "    b = int(a)\n",
    "    while b > 0:\n",
    "        last = b % 10\n",
    "        sum = sum + last ** length\n",
    "        b = b // 10\n",
    "    \n",
    "    if sum == int(a):\n",
    "        return a\n",
    "for i in range(lim1,lim2):\n",
    "    k = Arm_strong(i)\n",
    "    if k != None:\n",
    "        print(i)\n"
   ]
  },
  {
   "cell_type": "markdown",
   "metadata": {},
   "source": [
    "Question 6: Find the Sum of Natural Numbers?"
   ]
  },
  {
   "cell_type": "code",
   "execution_count": 20,
   "metadata": {},
   "outputs": [
    {
     "name": "stdout",
     "output_type": "stream",
     "text": [
      "10\n",
      "220.0\n"
     ]
    }
   ],
   "source": [
    "limit = int(input())\n",
    "sum = ((limit)*(limit + 1))/0.5\n",
    "print(sum)"
   ]
  },
  {
   "cell_type": "code",
   "execution_count": null,
   "metadata": {},
   "outputs": [],
   "source": []
  }
 ],
 "metadata": {
  "kernelspec": {
   "display_name": "Python 3",
   "language": "python",
   "name": "python3"
  },
  "language_info": {
   "codemirror_mode": {
    "name": "ipython",
    "version": 3
   },
   "file_extension": ".py",
   "mimetype": "text/x-python",
   "name": "python",
   "nbconvert_exporter": "python",
   "pygments_lexer": "ipython3",
   "version": "3.8.3"
  }
 },
 "nbformat": 4,
 "nbformat_minor": 4
}
