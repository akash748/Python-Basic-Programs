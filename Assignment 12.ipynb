{
 "cells": [
  {
   "cell_type": "markdown",
   "metadata": {},
   "source": [
    "# Assignment 12"
   ]
  },
  {
   "cell_type": "markdown",
   "metadata": {},
   "source": [
    "Question 1: program to Extract Unique values dictionary values?"
   ]
  },
  {
   "cell_type": "code",
   "execution_count": 5,
   "metadata": {},
   "outputs": [
    {
     "name": "stdout",
     "output_type": "stream",
     "text": [
      "{'Trick', 'yolk', 'lollipop'}\n"
     ]
    }
   ],
   "source": [
    "k = {\"order\" : \"Trick\",\"order1\" : \"lollipop\",\"order2\" : \"lollipop\",\"order4\" :\"yolk\",\"order5\" : \"yolk\"}\n",
    "j = set()\n",
    "for i in k.values():\n",
    "    j.add(i)\n",
    "  \n",
    "print(j)    \n"
   ]
  },
  {
   "cell_type": "markdown",
   "metadata": {},
   "source": [
    "Question 2: program to find the sum of all items in a dictionary?"
   ]
  },
  {
   "cell_type": "code",
   "execution_count": 8,
   "metadata": {},
   "outputs": [
    {
     "name": "stdout",
     "output_type": "stream",
     "text": [
      "105\n"
     ]
    }
   ],
   "source": [
    "l = {1 : 8,2 : 9,3 : 10,4 : 11,5: 12,6 : 13,7 : 14}\n",
    "sum1 = 0\n",
    "for i,j in l.items():\n",
    "    sum1 = sum1 + i + j\n",
    "print(sum1)  "
   ]
  },
  {
   "cell_type": "markdown",
   "metadata": {},
   "source": [
    "Question 3: program to Merging two Dictionaries?"
   ]
  },
  {
   "cell_type": "code",
   "execution_count": 14,
   "metadata": {},
   "outputs": [
    {
     "name": "stdout",
     "output_type": "stream",
     "text": [
      "{'yolo': 'bert', 'egg': 'chicken', 'order': 'Trick', 'order1': 'lollipop', 'order2': 'lollipop', 'order4': 'yolk', 'order5': 'yolk'}\n"
     ]
    }
   ],
   "source": [
    "k = {\"order\" : \"Trick\",\"order1\" : \"lollipop\",\"order2\" : \"lollipop\",\"order4\" :\"yolk\",\"order5\" : \"yolk\"}\n",
    "y = {\"yolo\" : \"bert\", \"egg\" : \"chicken\"}\n",
    "y.update(k)\n",
    "print(y)\n"
   ]
  },
  {
   "cell_type": "markdown",
   "metadata": {},
   "source": [
    "Question 4: program to convert key-values list to flat dictionary?"
   ]
  },
  {
   "cell_type": "code",
   "execution_count": 1,
   "metadata": {},
   "outputs": [
    {
     "name": "stdout",
     "output_type": "stream",
     "text": [
      "{1: 'Jan', 2: 'Feb', 3: 'March'}\n"
     ]
    }
   ],
   "source": [
    "from itertools import product\n",
    "test_dict = {'month' : [1, 2, 3],\n",
    "             'name' : ['Jan', 'Feb', 'March']}\n",
    "res = dict(zip(test_dict['month'], test_dict['name']))\n",
    "print(res)"
   ]
  },
  {
   "cell_type": "markdown",
   "metadata": {},
   "source": [
    "Question 5:Write a Python program to insertion at the beginning in OrderedDict?\n"
   ]
  },
  {
   "cell_type": "code",
   "execution_count": 2,
   "metadata": {},
   "outputs": [
    {
     "name": "stdout",
     "output_type": "stream",
     "text": [
      "Original OrderedDict:\n",
      "OrderedDict([('color1', 'Red'), ('color2', 'Green'), ('color3', 'Blue')])\n",
      "Insert an element at the beginning of the said OrderedDict:\n",
      "\n",
      "Updated OrderedDict:\n",
      "OrderedDict([('color4', 'Orange'), ('color1', 'Red'), ('color2', 'Green'), ('color3', 'Blue')])\n"
     ]
    }
   ],
   "source": [
    "from collections import OrderedDict\n",
    "color_orderdict = OrderedDict([('color1', 'Red'), ('color2', 'Green'), ('color3', 'Blue')]) \n",
    "print(\"Original OrderedDict:\")\n",
    "print(color_orderdict)\n",
    "print(\"Insert an element at the beginning of the said OrderedDict:\")\n",
    "color_orderdict.update({'color4':'Orange'})\n",
    "color_orderdict.move_to_end('color4', last = False)\n",
    "print(\"\\nUpdated OrderedDict:\")\n",
    "print(color_orderdict)"
   ]
  },
  {
   "cell_type": "markdown",
   "metadata": {},
   "source": [
    "Question 6:Write a Python program to check order of character in string using OrderedDict()?"
   ]
  },
  {
   "cell_type": "code",
   "execution_count": 4,
   "metadata": {},
   "outputs": [
    {
     "name": "stdout",
     "output_type": "stream",
     "text": [
      "engineers rock\n",
      "egr\n"
     ]
    },
    {
     "data": {
      "text/plain": [
       "'true'"
      ]
     },
     "execution_count": 4,
     "metadata": {},
     "output_type": "execute_result"
    }
   ],
   "source": [
    "\n",
    "\n",
    "from collections import OrderedDict \n",
    "  \n",
    "def checkOrder(input, pattern): \n",
    "      \n",
    "    \n",
    "    dict = OrderedDict.fromkeys(input)\n",
    "    ptrlen = 0\n",
    "    for key,value in dict.items(): \n",
    "        if (key == pattern[ptrlen]): \n",
    "            ptrlen = ptrlen + 1\n",
    "          \n",
    "        \n",
    "        if (ptrlen == (len(pattern))): \n",
    "            return 'true'\n",
    "  \n",
    "    \n",
    "    return 'false'\n",
    "a = input()\n",
    "pattern = input()\n",
    "checkOrder(a,pattern)"
   ]
  },
  {
   "cell_type": "markdown",
   "metadata": {},
   "source": [
    "Question 7:Write a Python program to sort Python Dictionaries by Key or Value?"
   ]
  },
  {
   "cell_type": "code",
   "execution_count": 7,
   "metadata": {},
   "outputs": [
    {
     "name": "stdout",
     "output_type": "stream",
     "text": [
      "akash : 1\n",
      "data : 4\n",
      "gupta : 2\n",
      "jackal : 3\n",
      "science : 5\n"
     ]
    }
   ],
   "source": [
    "a = {'akash' : 1,'gupta' : 2, 'jackal' : 3,'data' : 4, 'science' : 5}\n",
    "b = sorted(a)\n",
    "for i in b:\n",
    "    print(\"{} : {}\".format(i,a[i]))"
   ]
  },
  {
   "cell_type": "code",
   "execution_count": 12,
   "metadata": {},
   "outputs": [
    {
     "data": {
      "text/plain": [
       "[('science', 5), ('data', 4), ('jackal', 3), ('gupta', 2), ('akash', 1)]"
      ]
     },
     "execution_count": 12,
     "metadata": {},
     "output_type": "execute_result"
    }
   ],
   "source": [
    "import operator\n",
    "c = sorted(a.items() , key = operator.itemgetter(1),reverse = True)\n",
    "c"
   ]
  },
  {
   "cell_type": "code",
   "execution_count": null,
   "metadata": {},
   "outputs": [],
   "source": []
  }
 ],
 "metadata": {
  "kernelspec": {
   "display_name": "Python 3",
   "language": "python",
   "name": "python3"
  },
  "language_info": {
   "codemirror_mode": {
    "name": "ipython",
    "version": 3
   },
   "file_extension": ".py",
   "mimetype": "text/x-python",
   "name": "python",
   "nbconvert_exporter": "python",
   "pygments_lexer": "ipython3",
   "version": "3.8.3"
  }
 },
 "nbformat": 4,
 "nbformat_minor": 4
}
