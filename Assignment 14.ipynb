{
 "cells": [
  {
   "cell_type": "markdown",
   "metadata": {},
   "source": [
    "# Assignment 14"
   ]
  },
  {
   "cell_type": "markdown",
   "metadata": {},
   "source": [
    "Question 1: Define a class with a generator which can iterate the numbers, which are divisible by\n",
    "7, between a given range 0 and n."
   ]
  },
  {
   "cell_type": "code",
   "execution_count": 1,
   "metadata": {},
   "outputs": [
    {
     "name": "stdout",
     "output_type": "stream",
     "text": [
      "50\n"
     ]
    }
   ],
   "source": [
    "n = int(input())\n",
    "def inc(a):\n",
    "    for i in range(a):\n",
    "        if i % 7 == 0:\n",
    "            yield i\n",
    "\n",
    "generation = inc(n)            \n",
    "            \n",
    "            "
   ]
  },
  {
   "cell_type": "code",
   "execution_count": 3,
   "metadata": {},
   "outputs": [
    {
     "name": "stdout",
     "output_type": "stream",
     "text": [
      "0\n"
     ]
    }
   ],
   "source": [
    "print(next(generation))"
   ]
  },
  {
   "cell_type": "code",
   "execution_count": 5,
   "metadata": {},
   "outputs": [
    {
     "name": "stdout",
     "output_type": "stream",
     "text": [
      "14\n",
      "21\n"
     ]
    }
   ],
   "source": [
    "print(next(generation))\n",
    "print(next(generation))"
   ]
  },
  {
   "cell_type": "markdown",
   "metadata": {},
   "source": [
    "Question 2:Write a program to compute the frequency of the words from the input. The output\n",
    "should output after sorting the key alphanumerically. "
   ]
  },
  {
   "cell_type": "code",
   "execution_count": 12,
   "metadata": {},
   "outputs": [
    {
     "name": "stdout",
     "output_type": "stream",
     "text": [
      "2 :2 \n",
      "3. :1 \n",
      "3? :1 \n",
      "New :1 \n",
      "Python :5 \n",
      "Read :1 \n",
      "and :1 \n",
      "between :1 \n",
      "choosing :1 \n",
      "or :2 \n",
      "to :1 \n"
     ]
    }
   ],
   "source": [
    "txt = \"New to Python or choosing between Python 2 and Python 3? Read Python 2 or Python 3.\"\n",
    "k = {}\n",
    "for i in txt.split():\n",
    "    k[i] = k.get(i,0) + 1\n",
    "for i in sorted(k.keys()):\n",
    "    print(\"{} :{} \".format(i,k[i]))"
   ]
  },
  {
   "cell_type": "markdown",
   "metadata": {},
   "source": [
    "Question 3: Define a class Person and its two child classes: Male and Female. All classes have a\n",
    "method \"getGender\" which can print Male for Male class and Female for Female\n",
    "class."
   ]
  },
  {
   "cell_type": "code",
   "execution_count": 13,
   "metadata": {},
   "outputs": [],
   "source": [
    "class Person:\n",
    "    def getGender(self):\n",
    "        print(\"This is the person class\")\n",
    "        \n",
    "class Male(Person):\n",
    "    def getGender(self):\n",
    "        print(\"This is the Male class\")\n",
    "        \n",
    "class Female(Person):\n",
    "    def getGender(self):\n",
    "        print(\"This is the female class\")"
   ]
  },
  {
   "cell_type": "code",
   "execution_count": 15,
   "metadata": {},
   "outputs": [
    {
     "name": "stdout",
     "output_type": "stream",
     "text": [
      "This is the Male class\n"
     ]
    }
   ],
   "source": [
    "ob1 = Male()\n",
    "ob1.getGender()"
   ]
  },
  {
   "cell_type": "code",
   "execution_count": 16,
   "metadata": {},
   "outputs": [
    {
     "name": "stdout",
     "output_type": "stream",
     "text": [
      "This is the person class\n"
     ]
    }
   ],
   "source": [
    "ob2 = Person()\n",
    "ob2.getGender()"
   ]
  },
  {
   "cell_type": "code",
   "execution_count": 17,
   "metadata": {},
   "outputs": [
    {
     "name": "stdout",
     "output_type": "stream",
     "text": [
      "This is the female class\n"
     ]
    }
   ],
   "source": [
    "ob3 = Female()\n",
    "ob3.getGender()"
   ]
  },
  {
   "cell_type": "markdown",
   "metadata": {},
   "source": [
    "Question 4: program to generate all sentences where subject is in [\"I\",\"You\"] and verb is in [\"Play\",\"Love\"] and the object is in [\"Hockey\",\"Football\"]"
   ]
  },
  {
   "cell_type": "code",
   "execution_count": 18,
   "metadata": {},
   "outputs": [],
   "source": [
    "l1 = [\"I\",\"You\"]\n",
    "l2 = [\"Play\",\"Love\"]\n",
    "l3 = [\"Hockey\",\"Football\"]\n"
   ]
  },
  {
   "cell_type": "markdown",
   "metadata": {},
   "source": [
    "Question 5:program to compress and decompress the string \"hello world!hello\n",
    "world!hello world!hello world!\""
   ]
  },
  {
   "cell_type": "code",
   "execution_count": 3,
   "metadata": {},
   "outputs": [
    {
     "ename": "TypeError",
     "evalue": "a bytes-like object is required, not 'str'",
     "output_type": "error",
     "traceback": [
      "\u001b[1;31m---------------------------------------------------------------------------\u001b[0m",
      "\u001b[1;31mTypeError\u001b[0m                                 Traceback (most recent call last)",
      "\u001b[1;32m<ipython-input-3-b84465f2041b>\u001b[0m in \u001b[0;36m<module>\u001b[1;34m\u001b[0m\n\u001b[0;32m      3\u001b[0m \u001b[0mtext\u001b[0m\u001b[1;33m=\u001b[0m\u001b[1;34m\"hello world!hello world!hello world!hello world\"\u001b[0m\u001b[1;33m\u001b[0m\u001b[1;33m\u001b[0m\u001b[0m\n\u001b[0;32m      4\u001b[0m \u001b[0mtext_size\u001b[0m\u001b[1;33m=\u001b[0m\u001b[0msys\u001b[0m\u001b[1;33m.\u001b[0m\u001b[0mgetsizeof\u001b[0m\u001b[1;33m(\u001b[0m\u001b[0mtext\u001b[0m\u001b[1;33m)\u001b[0m\u001b[1;33m\u001b[0m\u001b[1;33m\u001b[0m\u001b[0m\n\u001b[1;32m----> 5\u001b[1;33m \u001b[0mcompressed\u001b[0m \u001b[1;33m=\u001b[0m \u001b[0mzlib\u001b[0m\u001b[1;33m.\u001b[0m\u001b[0mcompress\u001b[0m\u001b[1;33m(\u001b[0m\u001b[0mtext\u001b[0m\u001b[1;33m,\u001b[0m\u001b[1;36m2\u001b[0m\u001b[1;33m)\u001b[0m\u001b[1;33m\u001b[0m\u001b[1;33m\u001b[0m\u001b[0m\n\u001b[0m\u001b[0;32m      6\u001b[0m \u001b[0mcsize\u001b[0m\u001b[1;33m=\u001b[0m\u001b[0msys\u001b[0m\u001b[1;33m.\u001b[0m\u001b[0mgetsizeof\u001b[0m\u001b[1;33m(\u001b[0m\u001b[0mcompressed\u001b[0m\u001b[1;33m)\u001b[0m\u001b[1;33m\u001b[0m\u001b[1;33m\u001b[0m\u001b[0m\n\u001b[0;32m      7\u001b[0m \u001b[0mprint\u001b[0m\u001b[1;33m(\u001b[0m\u001b[1;34m\"\\nsize of compressed text\"\u001b[0m\u001b[1;33m,\u001b[0m\u001b[0mcsize\u001b[0m\u001b[1;33m)\u001b[0m\u001b[1;33m\u001b[0m\u001b[1;33m\u001b[0m\u001b[0m\n",
      "\u001b[1;31mTypeError\u001b[0m: a bytes-like object is required, not 'str'"
     ]
    }
   ],
   "source": [
    "import sys\n",
    "import zlib\n",
    "text=\"hello world!hello world!hello world!hello world\"\n",
    "text_size=sys.getsizeof(text)\n",
    "compressed = zlib.compress(text,9)\n",
    "csize=sys.getsizeof(compressed)\n",
    "print(\"\\nsize of compressed text\",csize)\n",
    "decompressed=zlib.decompress(compressed)\n",
    "dsize=sys.getsizeof(decompressed,2)\n",
    "print(\"\\nsize of decompressed text\",dsize)\n"
   ]
  },
  {
   "cell_type": "code",
   "execution_count": 18,
   "metadata": {},
   "outputs": [
    {
     "data": {
      "text/plain": [
       "'hel2o world!hel2o world!hel2o world!hel2o world'"
      ]
     },
     "execution_count": 18,
     "metadata": {},
     "output_type": "execute_result"
    }
   ],
   "source": [
    "ind = 0\n",
    "def gen_compressed_str(string):\n",
    "    \n",
    "    global ind\n",
    "    comp_str = \"\"\n",
    "    len_str = len(string)\n",
    "    while (ind != len_str):\n",
    "        count = 1\n",
    "\n",
    "        while ((ind < (len_str-1)) and (string[ind] == string[ind+1])):\n",
    "              count = count + 1\n",
    "              ind = ind + 1\n",
    "\n",
    "\n",
    "        if (count == 1):\n",
    "              comp_str = comp_str + str(string[ind])\n",
    "        else:\n",
    "              comp_str = comp_str + str(string[ind]) + str(count)\n",
    "    \n",
    "        ind = ind + 1\n",
    "\n",
    "    return comp_str\n",
    "text=\"hello world!hello world!hello world!hello world\"\n",
    "gen_compressed_str(text)"
   ]
  },
  {
   "cell_type": "markdown",
   "metadata": {},
   "source": [
    "Question 6:Please write a binary search function which searches an item in a sorted list. The\n",
    "function should return the index of element to be searched in the list."
   ]
  },
  {
   "cell_type": "code",
   "execution_count": 14,
   "metadata": {},
   "outputs": [
    {
     "name": "stdout",
     "output_type": "stream",
     "text": [
      "5\n"
     ]
    },
    {
     "data": {
      "text/plain": [
       "4"
      ]
     },
     "execution_count": 14,
     "metadata": {},
     "output_type": "execute_result"
    }
   ],
   "source": [
    "def binary_search(l,ele):\n",
    "    l.sort()\n",
    "    length = len(l)\n",
    "    mid = length // 2\n",
    "    if ele > l[mid]:\n",
    "        for i in range(mid,length):\n",
    "            if ele == l[i]:\n",
    "                return i\n",
    "    else:\n",
    "        for i in range(0,mid):\n",
    "            if ele == l[i]:\n",
    "                return i\n",
    "            \n",
    "    return \"Does not exist\"\n",
    "l = [1,2,3,4,5,6,7,8,9,25,100,125,140]\n",
    "ele = int(input())\n",
    "binary_search(l,ele)"
   ]
  },
  {
   "cell_type": "code",
   "execution_count": null,
   "metadata": {},
   "outputs": [],
   "source": []
  },
  {
   "cell_type": "code",
   "execution_count": null,
   "metadata": {},
   "outputs": [],
   "source": []
  }
 ],
 "metadata": {
  "kernelspec": {
   "display_name": "Python 3",
   "language": "python",
   "name": "python3"
  },
  "language_info": {
   "codemirror_mode": {
    "name": "ipython",
    "version": 3
   },
   "file_extension": ".py",
   "mimetype": "text/x-python",
   "name": "python",
   "nbconvert_exporter": "python",
   "pygments_lexer": "ipython3",
   "version": "3.8.3"
  }
 },
 "nbformat": 4,
 "nbformat_minor": 4
}
