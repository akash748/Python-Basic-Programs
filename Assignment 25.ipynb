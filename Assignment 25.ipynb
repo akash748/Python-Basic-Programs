{
 "cells": [
  {
   "cell_type": "markdown",
   "metadata": {},
   "source": [
    "# Assignment 25"
   ]
  },
  {
   "cell_type": "markdown",
   "metadata": {},
   "source": [
    "Question 1:Create a function that takes three integer arguments (a, b, c) and returns the amount of\n",
    "integers which are of equal value."
   ]
  },
  {
   "cell_type": "code",
   "execution_count": 6,
   "metadata": {},
   "outputs": [
    {
     "name": "stdout",
     "output_type": "stream",
     "text": [
      "3\n",
      "3\n",
      "2\n"
     ]
    },
    {
     "data": {
      "text/plain": [
       "1"
      ]
     },
     "execution_count": 6,
     "metadata": {},
     "output_type": "execute_result"
    }
   ],
   "source": [
    "def argue(a,b,c):\n",
    "    if a == b == c:\n",
    "        return 2\n",
    "    elif (a == b) or (b == c) or (c == a):\n",
    "        return 1\n",
    "    else:\n",
    "        return 0\n",
    "m = int(input())\n",
    "n = int(input())\n",
    "o = int(input())\n",
    "argue(m,n,o)\n"
   ]
  },
  {
   "cell_type": "markdown",
   "metadata": {},
   "source": [
    "Question 2:Write a function that converts a dictionary into a list of keys-values tuples."
   ]
  },
  {
   "cell_type": "code",
   "execution_count": 10,
   "metadata": {},
   "outputs": [
    {
     "name": "stdout",
     "output_type": "stream",
     "text": [
      "dict_items([('D', 2), ('B', 1), ('C', 3)])\n"
     ]
    }
   ],
   "source": [
    "def dict_to_list(k):\n",
    "    b = k.items()\n",
    "    print(b)\n",
    "l = {\"D\" : 2,\"B\" : 1,\"C\" : 3}\n",
    "dict_to_list(l)"
   ]
  },
  {
   "cell_type": "markdown",
   "metadata": {},
   "source": [
    "Question 3:Write a function that creates a dictionary with each (key, value) pair being the (lower case,\n",
    "upper case) versions of a letter, respectively."
   ]
  },
  {
   "cell_type": "code",
   "execution_count": 2,
   "metadata": {},
   "outputs": [
    {
     "data": {
      "text/plain": [
       "{'p': 'P', 'q': 'Q', 'r': 'R'}"
      ]
     },
     "execution_count": 2,
     "metadata": {},
     "output_type": "execute_result"
    }
   ],
   "source": [
    "def mapping(a):\n",
    "    count = {}\n",
    "    for i in a:\n",
    "        count[i] = i.upper()\n",
    "    return count\n",
    "l = [\"p\",\"q\",\"r\"]\n",
    "mapping(l)"
   ]
  },
  {
   "cell_type": "markdown",
   "metadata": {},
   "source": [
    "Question 4:Write a function, that replaces all vowels in a string with a specified vowel."
   ]
  },
  {
   "cell_type": "code",
   "execution_count": 4,
   "metadata": {},
   "outputs": [
    {
     "name": "stdout",
     "output_type": "stream",
     "text": [
      "apples and bananas\n",
      "u\n"
     ]
    },
    {
     "data": {
      "text/plain": [
       "'upplus und bununus'"
      ]
     },
     "execution_count": 4,
     "metadata": {},
     "output_type": "execute_result"
    }
   ],
   "source": [
    "def vow_replace(s,v):\n",
    "    vow = ['a','e','i','o','u']\n",
    "    for i in s:\n",
    "        if i in vow:\n",
    "            s = s.replace(i,v)\n",
    "    return s\n",
    "s = input()\n",
    "v = input()\n",
    "vow_replace(s,v)"
   ]
  },
  {
   "cell_type": "markdown",
   "metadata": {},
   "source": [
    "Question 5:Create a function that takes a string as input and capitalizes a letter if its ASCII code is even\n",
    "and returns its lower case version if its ASCII code is odd."
   ]
  },
  {
   "cell_type": "code",
   "execution_count": 5,
   "metadata": {},
   "outputs": [
    {
     "name": "stdout",
     "output_type": "stream",
     "text": [
      "to be or not to be!\n"
     ]
    },
    {
     "data": {
      "text/plain": [
       "'To Be oR NoT To Be!'"
      ]
     },
     "execution_count": 5,
     "metadata": {},
     "output_type": "execute_result"
    }
   ],
   "source": [
    "def ascii_capitalize(a):\n",
    "    for i in a:\n",
    "        if ord(i)%2 == 0:\n",
    "            a = a.replace(i,i.upper())\n",
    "        else:\n",
    "            a = a.replace(i,i.lower())\n",
    "    return a\n",
    "a = input()\n",
    "ascii_capitalize(a)"
   ]
  }
 ],
 "metadata": {
  "kernelspec": {
   "display_name": "Python 3",
   "language": "python",
   "name": "python3"
  },
  "language_info": {
   "codemirror_mode": {
    "name": "ipython",
    "version": 3
   },
   "file_extension": ".py",
   "mimetype": "text/x-python",
   "name": "python",
   "nbconvert_exporter": "python",
   "pygments_lexer": "ipython3",
   "version": "3.8.3"
  }
 },
 "nbformat": 4,
 "nbformat_minor": 4
}
