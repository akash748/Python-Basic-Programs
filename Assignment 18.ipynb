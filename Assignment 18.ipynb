{
 "cells": [
  {
   "cell_type": "markdown",
   "metadata": {},
   "source": [
    "# Assignment 18"
   ]
  },
  {
   "cell_type": "markdown",
   "metadata": {},
   "source": [
    "Question 1: Create a function that takes a list of non-negative integers and strings and return a new list\n",
    "without the strings."
   ]
  },
  {
   "cell_type": "code",
   "execution_count": 1,
   "metadata": {},
   "outputs": [
    {
     "data": {
      "text/plain": [
       "[1, 2]"
      ]
     },
     "execution_count": 1,
     "metadata": {},
     "output_type": "execute_result"
    }
   ],
   "source": [
    "def non_negative(a):\n",
    "    b = []\n",
    "    for i in a:\n",
    "        if type(i) == int:\n",
    "            b.append(i)\n",
    "            \n",
    "    return b\n",
    "b = [1,2,\"a\",\"b\"]\n",
    "non_negative(b)"
   ]
  },
  {
   "cell_type": "markdown",
   "metadata": {},
   "source": [
    "Question 2:The \"Reverser\" takes a string as input and returns the string in reverse order with the opposite case."
   ]
  },
  {
   "cell_type": "code",
   "execution_count": 8,
   "metadata": {},
   "outputs": [
    {
     "name": "stdout",
     "output_type": "stream",
     "text": [
      "Hello World\n"
     ]
    },
    {
     "data": {
      "text/plain": [
       "'DLROw OLLEh'"
      ]
     },
     "execution_count": 8,
     "metadata": {},
     "output_type": "execute_result"
    }
   ],
   "source": [
    "def Reverse(a):\n",
    "    b = a.swapcase()\n",
    "    return b[: : -1]\n",
    "\n",
    "\n",
    "n = input()\n",
    "Reverse(n)\n",
    "    \n",
    "    "
   ]
  },
  {
   "cell_type": "markdown",
   "metadata": {},
   "source": [
    "Question 3:You can assign variables from lists like this:\n",
    "lst = [1, 2, 3, 4, 5, 6]\n",
    "first = lst[0]\n",
    "middle = lst[1:-1]\n",
    "last = lst[-1]\n",
    "print(first) ➞ outputs 1\n",
    "print(middle) ➞ outputs [2, 3, 4, 5]\n",
    "print(last) ➞ outputs 6"
   ]
  },
  {
   "cell_type": "code",
   "execution_count": 10,
   "metadata": {},
   "outputs": [
    {
     "name": "stdout",
     "output_type": "stream",
     "text": [
      "6\n",
      "1\n",
      "4\n",
      "5\n",
      "2\n",
      "3\n",
      "6\n",
      "First Element is  1\n",
      "Middle element is  ['4', '5', '2', '3']\n",
      "Last element is  6\n"
     ]
    }
   ],
   "source": [
    "n = int(input())\n",
    "a = []\n",
    "for i in range(n):\n",
    "    ele = input()\n",
    "    a.append(ele)\n",
    "    \n",
    "first = a[0]\n",
    "middle = a[1:-1]\n",
    "last = a[-1]\n",
    "print(\"First Element is \",first)\n",
    "print(\"Middle element is \",middle)\n",
    "print(\"Last element is \",last)"
   ]
  },
  {
   "cell_type": "markdown",
   "metadata": {},
   "source": [
    "Question 4:Write a function that calculates the factorial of a number recursively."
   ]
  },
  {
   "cell_type": "code",
   "execution_count": 11,
   "metadata": {},
   "outputs": [
    {
     "name": "stdout",
     "output_type": "stream",
     "text": [
      "6\n"
     ]
    },
    {
     "data": {
      "text/plain": [
       "720"
      ]
     },
     "execution_count": 11,
     "metadata": {},
     "output_type": "execute_result"
    }
   ],
   "source": [
    "def fact(n):\n",
    "    assert n > 0 and int(n) == n,\"Invalid Input\"\n",
    "    if n in [0,1]:\n",
    "        return n\n",
    "    else:\n",
    "        return n * fact(n-1)\n",
    "a = int(input())\n",
    "fact(a)"
   ]
  },
  {
   "cell_type": "markdown",
   "metadata": {},
   "source": [
    "Question 5:Write a function that moves all elements of one type to the end of the list."
   ]
  },
  {
   "cell_type": "code",
   "execution_count": 6,
   "metadata": {},
   "outputs": [
    {
     "data": {
      "text/plain": [
       "[1, 3, 2, 1, 4, 4, 4]"
      ]
     },
     "execution_count": 6,
     "metadata": {},
     "output_type": "execute_result"
    }
   ],
   "source": [
    "def move(a,l):\n",
    "    counts = 0\n",
    "    j = []\n",
    "    \n",
    "    for i in range(len(a)):\n",
    "        if a[i] != l:\n",
    "            j.append(a[i])\n",
    "            \n",
    "    k = len(j)\n",
    "    while k <= len(a):\n",
    "        j.append(l)\n",
    "        k = k + 1\n",
    "            \n",
    "    return j\n",
    "    \n",
    "        \n",
    "        \n",
    "        \n",
    "n = [1,3,2,4,4,1]\n",
    "f = 4\n",
    "move(n,f)"
   ]
  },
  {
   "cell_type": "code",
   "execution_count": null,
   "metadata": {},
   "outputs": [],
   "source": []
  }
 ],
 "metadata": {
  "kernelspec": {
   "display_name": "Python 3",
   "language": "python",
   "name": "python3"
  },
  "language_info": {
   "codemirror_mode": {
    "name": "ipython",
    "version": 3
   },
   "file_extension": ".py",
   "mimetype": "text/x-python",
   "name": "python",
   "nbconvert_exporter": "python",
   "pygments_lexer": "ipython3",
   "version": "3.8.3"
  }
 },
 "nbformat": 4,
 "nbformat_minor": 4
}
