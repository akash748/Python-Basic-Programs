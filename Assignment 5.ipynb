{
 "cells": [
  {
   "cell_type": "markdown",
   "metadata": {},
   "source": [
    "# Assignment 5"
   ]
  },
  {
   "cell_type": "markdown",
   "metadata": {},
   "source": [
    "Question 1: Python Program to Find LCM?"
   ]
  },
  {
   "cell_type": "code",
   "execution_count": 4,
   "metadata": {},
   "outputs": [
    {
     "name": "stdout",
     "output_type": "stream",
     "text": [
      "54\n",
      "24\n",
      "216\n"
     ]
    }
   ],
   "source": [
    "a = int(input())\n",
    "b = int(input())\n",
    "if a > b:\n",
    "    greater = a\n",
    "else:\n",
    "    greater = b\n",
    "    \n",
    "while True:\n",
    "    if (greater % a == 0) and (greater % b == 0):\n",
    "        lcm = greater\n",
    "        break\n",
    "    greater = greater + 1\n",
    "    \n",
    "print(lcm)    \n",
    "    "
   ]
  },
  {
   "cell_type": "markdown",
   "metadata": {},
   "source": [
    "Question 2 : Find the hcf"
   ]
  },
  {
   "cell_type": "code",
   "execution_count": 3,
   "metadata": {},
   "outputs": [
    {
     "name": "stdout",
     "output_type": "stream",
     "text": [
      "54\n",
      "24\n",
      "6\n"
     ]
    }
   ],
   "source": [
    "a = int(input())\n",
    "b = int(input())\n",
    "hcf = 0\n",
    "for i in range(1,a*b):\n",
    "    if (a % i == 0) and (b % i == 0):\n",
    "        hcf = i\n",
    "        \n",
    "print(hcf) "
   ]
  },
  {
   "cell_type": "markdown",
   "metadata": {},
   "source": [
    "Question 3 : Convert Decimal to Binary, Octal and Hexadecimal?"
   ]
  },
  {
   "cell_type": "code",
   "execution_count": 7,
   "metadata": {},
   "outputs": [
    {
     "name": "stdout",
     "output_type": "stream",
     "text": [
      "500\n",
      "Binary Form  111110100\n",
      "Octal form  764\n",
      "Hexadecimal form  1F4\n"
     ]
    }
   ],
   "source": [
    "a = int(input())\n",
    "def Binary(b):\n",
    "    \n",
    "    sum1  = \"\"\n",
    "    while (b > 0):\n",
    "        bin = b % 2\n",
    "        sum1 = str(bin) + sum1\n",
    "        b = b // 2\n",
    "    return sum1\n",
    "def octal(c):\n",
    "    sum2  = \"\"\n",
    "    while (c > 0):\n",
    "        oct = c % 8\n",
    "        sum2 = str(oct) + sum2\n",
    "        c = c // 8\n",
    "    return sum2\n",
    "def hexadec(d):\n",
    "    sum3 = \"\"\n",
    "    while (d > 0):\n",
    "        x = d % 16\n",
    "        if (x == 10):\n",
    "            sum3 =\"A\" + sum3\n",
    "        if (x == 11):\n",
    "             sum3 = \"B\" + sum3\n",
    "        if (x == 12):\n",
    "             sum3 = \"C\" + sum3\n",
    "        if (x == 13):\n",
    "             sum3 = \"D\" + sum3\n",
    "        if (x == 14):\n",
    "             sum3 = \"E\" + sum3\n",
    "        if (x == 15):\n",
    "             sum3 = \"F\" + sum3\n",
    "        if int(x) < 10 :\n",
    "            sum3 = str(x) + sum3\n",
    "            \n",
    "            \n",
    "        \n",
    "        d = d // 16\n",
    "        \n",
    "    return sum3\n",
    "    \n",
    "print(\"Binary Form \",Binary(a))\n",
    "print(\"Octal form \",octal(a))\n",
    "print(\"Hexadecimal form \",hexadec(a))\n",
    "        "
   ]
  },
  {
   "cell_type": "markdown",
   "metadata": {},
   "source": [
    "Question 4 : Find ASCII value of a character?"
   ]
  },
  {
   "cell_type": "code",
   "execution_count": 9,
   "metadata": {},
   "outputs": [
    {
     "name": "stdout",
     "output_type": "stream",
     "text": [
      "a\n",
      "97\n"
     ]
    }
   ],
   "source": [
    "a = input()\n",
    "print(ord(a))\n"
   ]
  },
  {
   "cell_type": "markdown",
   "metadata": {},
   "source": [
    "Question 5 : Simple Calculator with 4 basic mathematical operations?"
   ]
  },
  {
   "cell_type": "code",
   "execution_count": 10,
   "metadata": {},
   "outputs": [
    {
     "name": "stdout",
     "output_type": "stream",
     "text": [
      "5\n",
      "4\n",
      "+\n",
      "9.0\n"
     ]
    }
   ],
   "source": [
    "a = float(input())\n",
    "b = float(input())\n",
    "oper = input()\n",
    "if oper == \"*\":\n",
    "    print(a*b)\n",
    "if oper == \"+\":\n",
    "    print(a+b)\n",
    "if oper == \"-\":\n",
    "    print(abs(a-b))\n",
    "if oper == \"/\":\n",
    "    print(a/b)"
   ]
  },
  {
   "cell_type": "code",
   "execution_count": null,
   "metadata": {},
   "outputs": [],
   "source": []
  }
 ],
 "metadata": {
  "kernelspec": {
   "display_name": "Python 3",
   "language": "python",
   "name": "python3"
  }
 },
 "nbformat": 4,
 "nbformat_minor": 4
}
