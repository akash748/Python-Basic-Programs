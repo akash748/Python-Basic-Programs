{
 "cells": [
  {
   "cell_type": "markdown",
   "metadata": {},
   "source": [
    "# Assignment 9"
   ]
  },
  {
   "cell_type": "markdown",
   "metadata": {},
   "source": [
    "Question 1 : check if the given number is a Disarium Number?"
   ]
  },
  {
   "cell_type": "code",
   "execution_count": 12,
   "metadata": {},
   "outputs": [
    {
     "name": "stdout",
     "output_type": "stream",
     "text": [
      "89\n",
      "Disarium Number\n"
     ]
    }
   ],
   "source": [
    "def Disarium(a):\n",
    "    f = a\n",
    "    k = str(a)\n",
    "    length = len(k)\n",
    "    j = 0\n",
    "    sum1 = 0\n",
    "    while a > 0:\n",
    "        j = a % 10\n",
    "        sum1 = sum1 + (j ** (length))\n",
    "        a = a // 10\n",
    "        length = length - 1\n",
    "        \n",
    "    if sum1 == f:\n",
    "        print(\"Disarium Number\")\n",
    "    else:\n",
    "        print(\"Not a Disarium Number\")\n",
    "n = int(input())\n",
    "Disarium(n)"
   ]
  },
  {
   "cell_type": "markdown",
   "metadata": {},
   "source": [
    "Question 2 : print all disarium numbers between 1 to 100?"
   ]
  },
  {
   "cell_type": "code",
   "execution_count": 14,
   "metadata": {},
   "outputs": [
    {
     "name": "stdout",
     "output_type": "stream",
     "text": [
      "1\n",
      "2\n",
      "3\n",
      "4\n",
      "5\n",
      "6\n",
      "7\n",
      "8\n",
      "9\n",
      "89\n"
     ]
    }
   ],
   "source": [
    "def Disarium1(a):\n",
    "    f = a\n",
    "    k = str(a)\n",
    "    length = len(k)\n",
    "    j = 0\n",
    "    sum1 = 0\n",
    "    while a > 0:\n",
    "        j = a % 10\n",
    "        sum1 = sum1 + (j ** (length))\n",
    "        a = a // 10\n",
    "        length = length - 1\n",
    "        \n",
    "    if sum1 == f:\n",
    "        return f\n",
    "\n",
    "for i in range(1,101):\n",
    "    y = Disarium1(i)\n",
    "    if y != None:\n",
    "        print(y)"
   ]
  },
  {
   "cell_type": "markdown",
   "metadata": {},
   "source": [
    "Question 3 : check if the given number is Happy Number?"
   ]
  },
  {
   "cell_type": "code",
   "execution_count": 6,
   "metadata": {},
   "outputs": [
    {
     "name": "stdout",
     "output_type": "stream",
     "text": [
      "Enter a number: 19\n",
      "19  is a Happy Number!!!\n"
     ]
    }
   ],
   "source": [
    "def isHappyNumber(n):    \n",
    "    digit = sum = 0    \n",
    "    while(n > 0):    \n",
    "        digit = n % 10 \n",
    "        sum = sum + (digit * digit)    \n",
    "        n = n // 10   \n",
    "    return sum    \n",
    "        \n",
    "num = int(input(\"Enter a number: \"))    \n",
    "result = num    \n",
    "     \n",
    "while(result != 1 and result != 4):    \n",
    "    result = isHappyNumber(result)   \n",
    "     \n",
    "if(result == 1):    \n",
    "    print(num, \" is a Happy Number!!!\")   \n",
    "else:    \n",
    "    print(num, \" is an Unhappy Number!!!\")  "
   ]
  },
  {
   "cell_type": "markdown",
   "metadata": {},
   "source": [
    "Question 4 : print all happy numbers between 1 and 100?"
   ]
  },
  {
   "cell_type": "code",
   "execution_count": 5,
   "metadata": {},
   "outputs": [
    {
     "name": "stdout",
     "output_type": "stream",
     "text": [
      "1\n",
      "7\n",
      "10\n",
      "13\n",
      "19\n",
      "23\n",
      "28\n",
      "31\n",
      "32\n",
      "44\n",
      "49\n",
      "68\n",
      "70\n",
      "79\n",
      "82\n",
      "86\n",
      "91\n",
      "94\n",
      "97\n"
     ]
    }
   ],
   "source": [
    "def isHappyNumber(n):    \n",
    "    digit = sum = 0    \n",
    "    while(n > 0):    \n",
    "        digit = n % 10 \n",
    "        sum = sum + (digit * digit)    \n",
    "        n = n // 10   \n",
    "    return sum    \n",
    "        \n",
    "for i in range(1,100):   \n",
    "    result = i    \n",
    "     \n",
    "    while(result != 1 and result != 4):    \n",
    "        result = isHappyNumber(result)   \n",
    "     \n",
    "    if(result == 1):    \n",
    "        print(i) \n",
    "    \n"
   ]
  },
  {
   "cell_type": "markdown",
   "metadata": {},
   "source": [
    "Question 5 : Find Harshad Number"
   ]
  },
  {
   "cell_type": "code",
   "execution_count": 6,
   "metadata": {},
   "outputs": [
    {
     "name": "stdout",
     "output_type": "stream",
     "text": [
      "156\n"
     ]
    },
    {
     "data": {
      "text/plain": [
       "'Harshad Number'"
      ]
     },
     "execution_count": 6,
     "metadata": {},
     "output_type": "execute_result"
    }
   ],
   "source": [
    "def Harshad_Num(a):\n",
    "    num = a\n",
    "    sum1 = 0\n",
    "    while a > 0:\n",
    "        j = a % 10\n",
    "        sum1 = sum1 + j\n",
    "        a = a // 10\n",
    "    if num%sum1 == 0:\n",
    "        return \"Harshad Number\"\n",
    "    else:\n",
    "        return \"Not a Harshad Number\"\n",
    "n = int(input())\n",
    "Harshad_Num(n)"
   ]
  },
  {
   "cell_type": "markdown",
   "metadata": {},
   "source": [
    "Question 6 : Find Harshad Number from 1 - 100"
   ]
  },
  {
   "cell_type": "code",
   "execution_count": 3,
   "metadata": {},
   "outputs": [
    {
     "name": "stdout",
     "output_type": "stream",
     "text": [
      "1\n",
      "2\n",
      "3\n",
      "4\n",
      "5\n",
      "6\n",
      "7\n",
      "8\n",
      "9\n",
      "10\n",
      "12\n",
      "18\n",
      "20\n",
      "21\n",
      "24\n",
      "27\n",
      "30\n",
      "36\n",
      "40\n",
      "42\n",
      "45\n",
      "48\n",
      "50\n",
      "54\n",
      "60\n",
      "63\n",
      "70\n",
      "72\n",
      "80\n",
      "81\n",
      "84\n",
      "90\n"
     ]
    }
   ],
   "source": [
    "def Harshad_Num(a):\n",
    "    num = a\n",
    "    sum1 = 0\n",
    "    while a > 0:\n",
    "        j = a % 10\n",
    "        sum1 = sum1 + j\n",
    "        a = a // 10\n",
    "    if num%sum1 == 0:\n",
    "        print(i)\n",
    "    \n",
    "for i in range(1,100):\n",
    "    Harshad_Num(i)\n",
    "        \n"
   ]
  }
 ],
 "metadata": {
  "kernelspec": {
   "display_name": "Python 3",
   "language": "python",
   "name": "python3"
  },
  "language_info": {
   "codemirror_mode": {
    "name": "ipython",
    "version": 3
   },
   "file_extension": ".py",
   "mimetype": "text/x-python",
   "name": "python",
   "nbconvert_exporter": "python",
   "pygments_lexer": "ipython3",
   "version": "3.8.3"
  }
 },
 "nbformat": 4,
 "nbformat_minor": 4
}
