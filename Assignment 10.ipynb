{
 "cells": [
  {
   "cell_type": "markdown",
   "metadata": {},
   "source": [
    "# Assignment 10"
   ]
  },
  {
   "cell_type": "markdown",
   "metadata": {},
   "source": [
    "Question 1 : program to find sum of elements in list?"
   ]
  },
  {
   "cell_type": "code",
   "execution_count": 8,
   "metadata": {},
   "outputs": [
    {
     "name": "stdout",
     "output_type": "stream",
     "text": [
      "Enter the number of elements4\n",
      "10\n",
      "15\n",
      "20\n",
      "25\n"
     ]
    },
    {
     "data": {
      "text/plain": [
       "70"
      ]
     },
     "execution_count": 8,
     "metadata": {},
     "output_type": "execute_result"
    }
   ],
   "source": [
    "a = int(input(\"Enter the number of elements\"))\n",
    "lst = []\n",
    "for i in range(a):\n",
    "    ele = int(input())\n",
    "    lst.append(ele)\n",
    "   \n",
    "    \n",
    "def add(j):\n",
    "    sum1 = 0\n",
    "    for i in j:\n",
    "        sum1 = sum1 + i\n",
    "    return sum1  \n",
    "add(lst)"
   ]
  },
  {
   "cell_type": "markdown",
   "metadata": {},
   "source": [
    "Question 2 : program to Multiply all numbers in the list?"
   ]
  },
  {
   "cell_type": "code",
   "execution_count": 10,
   "metadata": {},
   "outputs": [
    {
     "name": "stdout",
     "output_type": "stream",
     "text": [
      "4\n",
      "12\n",
      "14\n",
      "21\n",
      "32\n"
     ]
    },
    {
     "data": {
      "text/plain": [
       "112896"
      ]
     },
     "execution_count": 10,
     "metadata": {},
     "output_type": "execute_result"
    }
   ],
   "source": [
    "b = int(input())\n",
    "lst1 = []\n",
    "for i in range(b):\n",
    "    ele = int(input())\n",
    "    lst1.append(ele)\n",
    "\n",
    "def multiply(q):\n",
    "    prod = 1\n",
    "    for i in q:\n",
    "        prod = prod * i\n",
    "    return prod\n",
    "multiply(lst1)"
   ]
  },
  {
   "cell_type": "markdown",
   "metadata": {},
   "source": [
    "Question 3 : program to find smallest number in a list?"
   ]
  },
  {
   "cell_type": "code",
   "execution_count": 13,
   "metadata": {},
   "outputs": [
    {
     "name": "stdout",
     "output_type": "stream",
     "text": [
      "4\n",
      "12\n",
      "7\n",
      "8\n",
      "45\n"
     ]
    },
    {
     "data": {
      "text/plain": [
       "7"
      ]
     },
     "execution_count": 13,
     "metadata": {},
     "output_type": "execute_result"
    }
   ],
   "source": [
    "c = int(input())\n",
    "lst2 = []\n",
    "for i in range(c):\n",
    "    ele = int(input())\n",
    "    lst2.append(ele)\n",
    "    \n",
    "def mini(j):\n",
    "    mi = j[0]\n",
    "    for i in j:\n",
    "        if mi > i :\n",
    "            mi = i\n",
    "    return mi   \n",
    "mini(lst2)"
   ]
  },
  {
   "cell_type": "markdown",
   "metadata": {},
   "source": [
    "Question 4 : program to find largest number in a list?"
   ]
  },
  {
   "cell_type": "code",
   "execution_count": 14,
   "metadata": {},
   "outputs": [
    {
     "name": "stdout",
     "output_type": "stream",
     "text": [
      "4\n",
      "12\n",
      "45\n",
      "100\n",
      "123\n"
     ]
    },
    {
     "data": {
      "text/plain": [
       "123"
      ]
     },
     "execution_count": 14,
     "metadata": {},
     "output_type": "execute_result"
    }
   ],
   "source": [
    "c = int(input())\n",
    "lst3 = []\n",
    "for i in range(c):\n",
    "    ele = int(input())\n",
    "    lst3.append(ele)\n",
    "    \n",
    "def maxa(j):\n",
    "    mi = j[0]\n",
    "    for i in j:\n",
    "        if mi < i :\n",
    "            mi = i\n",
    "    return mi   \n",
    "maxa(lst3)"
   ]
  },
  {
   "cell_type": "markdown",
   "metadata": {},
   "source": [
    "Question 5 : find second largest number in a list?"
   ]
  },
  {
   "cell_type": "code",
   "execution_count": 15,
   "metadata": {},
   "outputs": [
    {
     "name": "stdout",
     "output_type": "stream",
     "text": [
      "4\n",
      "12\n",
      "45\n",
      "100\n",
      "123\n"
     ]
    },
    {
     "data": {
      "text/plain": [
       "100"
      ]
     },
     "execution_count": 15,
     "metadata": {},
     "output_type": "execute_result"
    }
   ],
   "source": [
    "c = int(input())\n",
    "lst3 = []\n",
    "for i in range(c):\n",
    "    ele = int(input())\n",
    "    lst3.append(ele)\n",
    "    \n",
    "def maxa(j):\n",
    "    mi = j[0]\n",
    "    for i in j:\n",
    "        if mi < i :\n",
    "            mi = i\n",
    "    return mi   \n",
    "lst3.remove(maxa(lst3))\n",
    "maxa(lst3)"
   ]
  },
  {
   "cell_type": "markdown",
   "metadata": {},
   "source": [
    "Question 6: program to find N largest elements from a list?"
   ]
  },
  {
   "cell_type": "code",
   "execution_count": 18,
   "metadata": {},
   "outputs": [
    {
     "name": "stdout",
     "output_type": "stream",
     "text": [
      "4\n",
      "12\n",
      "45\n",
      "100\n",
      "123\n",
      "enter the which largest element3\n"
     ]
    },
    {
     "data": {
      "text/plain": [
       "45"
      ]
     },
     "execution_count": 18,
     "metadata": {},
     "output_type": "execute_result"
    }
   ],
   "source": [
    "c = int(input())\n",
    "lst3 = []\n",
    "for i in range(c):\n",
    "    ele = int(input())\n",
    "    lst3.append(ele)\n",
    "    \n",
    "def maxa(j):\n",
    "    mi = j[0]\n",
    "    for i in j:\n",
    "        if mi < i :\n",
    "            mi = i\n",
    "    return mi   \n",
    "n = int(input(\"enter the which largest element\"))\n",
    "for i in range(1,n):\n",
    "    lst3.remove(maxa(lst3))\n",
    "maxa(lst3)    "
   ]
  },
  {
   "cell_type": "markdown",
   "metadata": {},
   "source": [
    "Question 7: program to print even numbers in a list?"
   ]
  },
  {
   "cell_type": "code",
   "execution_count": 20,
   "metadata": {},
   "outputs": [
    {
     "name": "stdout",
     "output_type": "stream",
     "text": [
      "6\n",
      "12\n",
      "45\n",
      "85\n",
      "70\n",
      "32\n",
      "95\n"
     ]
    },
    {
     "data": {
      "text/plain": [
       "[12, 70, 32]"
      ]
     },
     "execution_count": 20,
     "metadata": {},
     "output_type": "execute_result"
    }
   ],
   "source": [
    "c = int(input())\n",
    "lst3 = []\n",
    "for i in range(c):\n",
    "    ele = int(input())\n",
    "    lst3.append(ele)\n",
    "    \n",
    "def even(j):\n",
    "    lsr = []\n",
    "    for i in j:\n",
    "        if i%2 == 0:\n",
    "            lsr.append(i)\n",
    "    return lsr\n",
    "even(lst3)"
   ]
  },
  {
   "cell_type": "markdown",
   "metadata": {},
   "source": [
    "Question 8 : program to print odd numbers in a List?"
   ]
  },
  {
   "cell_type": "code",
   "execution_count": 2,
   "metadata": {},
   "outputs": [
    {
     "name": "stdout",
     "output_type": "stream",
     "text": [
      "4\n",
      "3\n",
      "21\n",
      "20\n",
      "10\n"
     ]
    },
    {
     "data": {
      "text/plain": [
       "[3, 21]"
      ]
     },
     "execution_count": 2,
     "metadata": {},
     "output_type": "execute_result"
    }
   ],
   "source": [
    "c = int(input())\n",
    "lst3 = []\n",
    "for i in range(c):\n",
    "    ele = int(input())\n",
    "    lst3.append(ele)\n",
    "    \n",
    "def odd(j):\n",
    "    lsr = []\n",
    "    for i in j:\n",
    "        if i%2 != 0:\n",
    "            lsr.append(i)\n",
    "    return lsr\n",
    "odd(lst3)"
   ]
  },
  {
   "cell_type": "markdown",
   "metadata": {},
   "source": [
    "Question 9 : program to Remove empty List from List?"
   ]
  },
  {
   "cell_type": "code",
   "execution_count": 4,
   "metadata": {},
   "outputs": [
    {
     "data": {
      "text/plain": [
       "[1, 23, [1, 2], 'fr', 4]"
      ]
     },
     "execution_count": 4,
     "metadata": {},
     "output_type": "execute_result"
    }
   ],
   "source": [
    "c = [1,23,[],[1,2],\"fr\",4,[]]\n",
    "    \n",
    "def empty(f):\n",
    "    \n",
    "    for i in f:\n",
    "        if type(i) == list :\n",
    "            if i == []:\n",
    "                f.remove(i)\n",
    "    return f\n",
    "empty(c)\n"
   ]
  },
  {
   "cell_type": "markdown",
   "metadata": {},
   "source": [
    "Question 10: program to Cloning or Copying a list?"
   ]
  },
  {
   "cell_type": "code",
   "execution_count": 5,
   "metadata": {},
   "outputs": [
    {
     "name": "stdout",
     "output_type": "stream",
     "text": [
      "[1, 2, 3, 'hjdj', 45, 'jjf', 'jfjd', 456]\n"
     ]
    }
   ],
   "source": [
    "a = [1,2,3,\"hjdj\",45,\"jjf\",\"jfjd\",456]\n",
    "a_copy = a[:]\n",
    "print(a_copy)"
   ]
  },
  {
   "cell_type": "markdown",
   "metadata": {},
   "source": [
    "Question 11: program to Count occurrences of an element in a list?"
   ]
  },
  {
   "cell_type": "code",
   "execution_count": 12,
   "metadata": {},
   "outputs": [
    {
     "name": "stdout",
     "output_type": "stream",
     "text": [
      "12\n",
      "1\n",
      "2\n",
      "2\n",
      "1\n",
      "5\n",
      "5\n",
      "4\n",
      "2\n",
      "3\n",
      "6\n",
      "3\n",
      "5\n",
      "1 : 2\n",
      "2 : 3\n",
      "5 : 3\n",
      "4 : 1\n",
      "3 : 2\n",
      "6 : 1\n"
     ]
    }
   ],
   "source": [
    "c = int(input())\n",
    "lst3 = []\n",
    "for i in range(c):\n",
    "    ele = (input())\n",
    "    lst3.append(ele)\n",
    "def occur(p):\n",
    "    k = {}\n",
    "    for i in p:\n",
    "        k[i]= p.count(i)\n",
    "    for key,value in k.items():\n",
    "        print(\"{} : {}\".format(key,value))\n",
    "occur(lst3)"
   ]
  },
  {
   "cell_type": "code",
   "execution_count": null,
   "metadata": {},
   "outputs": [],
   "source": []
  }
 ],
 "metadata": {
  "kernelspec": {
   "display_name": "Python 3",
   "language": "python",
   "name": "python3"
  },
  "language_info": {
   "codemirror_mode": {
    "name": "ipython",
    "version": 3
   },
   "file_extension": ".py",
   "mimetype": "text/x-python",
   "name": "python",
   "nbconvert_exporter": "python",
   "pygments_lexer": "ipython3",
   "version": "3.8.3"
  }
 },
 "nbformat": 4,
 "nbformat_minor": 4
}
