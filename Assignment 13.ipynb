{
 "cells": [
  {
   "cell_type": "markdown",
   "metadata": {},
   "source": [
    "# Assignment 13"
   ]
  },
  {
   "cell_type": "markdown",
   "metadata": {},
   "source": [
    "Question 1:Write a program that calculates and prints the value according to the given formula:\n",
    "        \n",
    "Q = Square root of [(2 * C * D)/H]\n",
    "\n",
    "Following are the fixed values of C and H:\n",
    "    \n",
    "C is 50. H is 30.\n",
    "\n",
    "D is the variable whose values should be input to your program in a comma-separated\n",
    "\n",
    "sequence.\n",
    "\n",
    "Example\n",
    "\n",
    "Let us assume the following comma separated input sequence is given to the program:\n",
    "    \n",
    "100,150,180\n",
    "\n",
    "The output of the program should be:\n",
    "    \n",
    "18,22,24"
   ]
  },
  {
   "cell_type": "code",
   "execution_count": 8,
   "metadata": {},
   "outputs": [
    {
     "name": "stdout",
     "output_type": "stream",
     "text": [
      "Enter a number or enter exit to stop entering the numbers\n",
      "4\n",
      "Enter a number or enter exit to stop entering the numbers\n",
      "5\n",
      "Enter a number or enter exit to stop entering the numbers\n",
      "6\n",
      "Enter a number or enter exit to stop entering the numbers\n",
      "7\n",
      "Enter a number or enter exit to stop entering the numbers\n",
      "exit\n",
      "27.39,24.49,22.36,20.7,"
     ]
    }
   ],
   "source": [
    "ans = 0\n",
    "D = []\n",
    "try:\n",
    "    while True:\n",
    "        print(\"Enter a number or enter exit to stop entering the numbers\")\n",
    "        i = float(input())\n",
    "        D.append(i)\n",
    "except:\n",
    "    for i in D:\n",
    "        ans = round((3000 / i) ** 0.5,2)\n",
    "        print(ans,end = \",\")\n",
    "        "
   ]
  },
  {
   "cell_type": "markdown",
   "metadata": {},
   "source": [
    "Question 2:Write a program which takes 2 digits, X,Y as input and generates a 2-dimensional array. The\n",
    "\n",
    "element value in the i-th row and j-th column of the array should be i*j.\n",
    "\n",
    "Note: i=0,1.., X-1; j=0,1,¡Y-1.\n",
    "\n",
    "Example\n",
    "\n",
    "Suppose the following inputs are given to the program:\n",
    "\n",
    "3,5\n",
    "\n",
    "Then, the output of the program should be:\n",
    "\n",
    "[[0, 0, 0, 0, 0], [0, 1, 2, 3, 4], [0, 2, 4, 6, 8]]"
   ]
  },
  {
   "cell_type": "code",
   "execution_count": 10,
   "metadata": {},
   "outputs": [
    {
     "name": "stdout",
     "output_type": "stream",
     "text": [
      "3\n",
      "5\n",
      "[[0, 0, 0, 0, 0], [0, 1, 2, 3, 4], [0, 2, 4, 6, 8]]\n"
     ]
    }
   ],
   "source": [
    "x = int(input())\n",
    "y = int(input())\n",
    "row = []\n",
    "mat = []\n",
    "for i in range(x):\n",
    "    for j in range(y):\n",
    "        row.append(i*j)\n",
    "    mat.append(row)\n",
    "    row = []\n",
    "print(mat)    "
   ]
  },
  {
   "cell_type": "markdown",
   "metadata": {},
   "source": [
    "Question 3:Write a program that accepts a comma separated sequence of words as input and prints the\n",
    "\n",
    "words in a comma-separated sequence after sorting them alphabetically.\n",
    "\n",
    "Suppose the following input is supplied to the program:\n",
    "\n",
    "without,hello,bag,world\n",
    "\n",
    "Then, the output should be:\n",
    "\n",
    "bag,hello,without,world"
   ]
  },
  {
   "cell_type": "code",
   "execution_count": 18,
   "metadata": {},
   "outputs": [
    {
     "name": "stdout",
     "output_type": "stream",
     "text": [
      "without,hello,bag,world\n",
      "bag,hello,without,world\n"
     ]
    }
   ],
   "source": [
    "a = input()\n",
    "l = a.split(\",\")\n",
    "l.sort()\n",
    "f = \"\"\n",
    "print(\",\".join(l))\n",
    "    "
   ]
  },
  {
   "cell_type": "markdown",
   "metadata": {},
   "source": [
    "Question 4:Write a program that accepts a sequence of whitespace separated words as input and prints\n",
    "    \n",
    "the words after removing all duplicate words and sorting them alphanumerically.\n",
    "\n",
    "Suppose the following input is supplied to the program:\n",
    "    \n",
    "hello world and practice makes perfect and hello world again\n",
    "\n",
    "Then, the output should be:\n",
    "    \n",
    "again and hello makes perfect practice world"
   ]
  },
  {
   "cell_type": "code",
   "execution_count": 27,
   "metadata": {},
   "outputs": [
    {
     "name": "stdout",
     "output_type": "stream",
     "text": [
      "hello world and practice makes perfect and hello world again\n",
      "again and hello makes perfect practice world\n"
     ]
    }
   ],
   "source": [
    "k = {}\n",
    "a = input()\n",
    "a = a.split()\n",
    "f = \"\"\n",
    "for i in a:\n",
    "    k[i] = k.get(i,0) + 1\n",
    "for i in sorted(k):\n",
    "    f = f + \" \" + i\n",
    "   \n",
    "print(f.lstrip())    \n"
   ]
  },
  {
   "cell_type": "markdown",
   "metadata": {},
   "source": [
    "Question 5:Write a program that accepts a sentence and calculate the number of letters and digits.\n",
    "    \n",
    "Suppose the following input is supplied to the program:\n",
    "    \n",
    "hello world! 123\n",
    "\n",
    "Then, the output should be:\n",
    "    \n",
    "LETTERS 10\n",
    "\n",
    "\n",
    "\n",
    "DIGITS 3"
   ]
  },
  {
   "cell_type": "code",
   "execution_count": 12,
   "metadata": {
    "scrolled": true
   },
   "outputs": [
    {
     "name": "stdout",
     "output_type": "stream",
     "text": [
      "hello world! 123\n",
      "LETTER  10\n",
      "DIGIT  3\n"
     ]
    }
   ],
   "source": [
    "a = input()\n",
    "alp = 0\n",
    "num = 0\n",
    "for i in a:\n",
    "    try:\n",
    "        i = int(i)\n",
    "        num = num + 1\n",
    "    except:\n",
    "        if i.isalpha():\n",
    "            alp = alp + 1\n",
    "print(\"LETTER \",alp)\n",
    "print(\"DIGIT \",num)"
   ]
  },
  {
   "cell_type": "markdown",
   "metadata": {},
   "source": [
    "Question 6:A website requires the users to input username and password to register. Write a program to\n",
    "    \n",
    "check the validity of password input by users\n",
    ".\n",
    "Following are the criteria for checking the password:\n",
    "    \n",
    "1. At least 1 letter between [a-z]\n",
    "\n",
    "2. At least 1 number between [0-9]\n",
    "\n",
    "1. At least 1 letter between [A-Z]\n",
    "\n",
    "3. At least 1 character from [$#@]\n",
    "                              \n",
    "4. Minimum length of transaction password: 6\n",
    "                              \n",
    "5. Maximum length of transaction password: 12\n",
    "                              \n",
    "Your program should accept a sequence of comma separated passwords and will check them\n",
    "                              \n",
    "according to the above criteria. Passwords that match the criteria are to be printed, each\n",
    "                              \n",
    "separated by a comma.\n",
    "                              \n",
    "Example\n",
    "                              \n",
    "If the following passwords are given as input to the program:\n",
    "                              \n",
    "ABd1234@1,a F1#,2w3E*,2We3345\n",
    "                              \n",
    "Then, the output of the program should be:\n",
    "                              \n",
    "ABd1234@1"
   ]
  },
  {
   "cell_type": "code",
   "execution_count": 17,
   "metadata": {},
   "outputs": [
    {
     "name": "stdout",
     "output_type": "stream",
     "text": [
      "ABd1234@1\n"
     ]
    }
   ],
   "source": [
    "l, u, p, d = 0, 0, 0, 0\n",
    "k = [\"ABd1234@1\",\"a F1#2w3E*\",\"2We3345\"]\n",
    "for s in k:\n",
    "    if (len(s) >= 6) and (len(s) <= 12):\n",
    "        for i in s:\n",
    "  \n",
    "        # counting lowercase alphabets \n",
    "            if (i.islower()):\n",
    "                l+=1            \n",
    "  \n",
    "        # counting uppercase alphabets\n",
    "            if (i.isupper()):\n",
    "                u+=1            \n",
    "  \n",
    "        # counting digits\n",
    "            if (i.isdigit()):\n",
    "                d+=1            \n",
    "  \n",
    "        # counting the mentioned special characters\n",
    "            if(i=='@'or i=='$' or i=='#'):\n",
    "                p+=1           \n",
    "    if (l>=1 and u>=1 and p>=1 and d>=1 and l+p+u+d==len(s)):\n",
    "        print(s)\n"
   ]
  },
  {
   "cell_type": "code",
   "execution_count": null,
   "metadata": {},
   "outputs": [],
   "source": []
  }
 ],
 "metadata": {
  "kernelspec": {
   "display_name": "Python 3",
   "language": "python",
   "name": "python3"
  }
 },
 "nbformat": 4,
 "nbformat_minor": 4
}
