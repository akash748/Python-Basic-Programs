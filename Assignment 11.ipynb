{
 "cells": [
  {
   "cell_type": "markdown",
   "metadata": {},
   "source": [
    "# Assignment 11"
   ]
  },
  {
   "cell_type": "markdown",
   "metadata": {},
   "source": [
    "Question 1: program to find words which are greater than given length k?"
   ]
  },
  {
   "cell_type": "code",
   "execution_count": 5,
   "metadata": {},
   "outputs": [
    {
     "name": "stdout",
     "output_type": "stream",
     "text": [
      "jhfh feuiwdfedb feifbe uefgeb idhd iedhoid uefe ud iodhoi gufgf uedh wudh iugedgid\n",
      "4\n",
      "['feuiwdfedb', 'feifbe', 'uefgeb', 'iedhoid', 'ud', 'iodhoi', 'gufgf', 'wudh', 'iugedgid']\n"
     ]
    }
   ],
   "source": [
    "str2 = input()\n",
    "str1 = \"\"\n",
    "k = int(input())\n",
    "lst = str2.split()\n",
    "for i in lst:\n",
    "    if len(i) <= k:\n",
    "        lst.remove(i)\n",
    "    else:\n",
    "        str1+=i\n",
    "print(lst)        \n",
    "        \n",
    "        "
   ]
  },
  {
   "cell_type": "markdown",
   "metadata": {},
   "source": [
    "Question 2 : program for removing i-th character from a string?"
   ]
  },
  {
   "cell_type": "code",
   "execution_count": 7,
   "metadata": {},
   "outputs": [
    {
     "name": "stdout",
     "output_type": "stream",
     "text": [
      "ufguwedjakdj\n",
      "5\n",
      "The original string is : ufguwedjakdj\n",
      "The string after removal of i'th character : ufguwdjakdj\n"
     ]
    }
   ],
   "source": [
    "test_str = input()\n",
    "k = int(input())\n",
    "  \n",
    "\n",
    "print (\"The original string is : \" + test_str)\n",
    "  \n",
    "\n",
    "new_str = test_str[:k] +  test_str[k+1:]\n",
    "  \n",
    "\n",
    "print (\"The string after removal of i'th character : \" + new_str)"
   ]
  },
  {
   "cell_type": "markdown",
   "metadata": {},
   "source": [
    "Question 3: program to split and join a string?"
   ]
  },
  {
   "cell_type": "code",
   "execution_count": 2,
   "metadata": {},
   "outputs": [
    {
     "name": "stdout",
     "output_type": "stream",
     "text": [
      "My name is Akash\n",
      "and I love Machine Learning\n",
      "['My', 'name', 'is', 'Akash']\n",
      "My name is Akash and I love Machine Learning\n"
     ]
    }
   ],
   "source": [
    "s = input()\n",
    "txt = s.split()\n",
    "y = input()\n",
    "print(txt)\n",
    "print(s+ \" \"+ y)"
   ]
  },
  {
   "cell_type": "markdown",
   "metadata": {},
   "source": [
    "Question 4: Python to check if a given string is binary string or not?"
   ]
  },
  {
   "cell_type": "code",
   "execution_count": 3,
   "metadata": {},
   "outputs": [
    {
     "name": "stdout",
     "output_type": "stream",
     "text": [
      "101010101\n"
     ]
    },
    {
     "data": {
      "text/plain": [
       "True"
      ]
     },
     "execution_count": 3,
     "metadata": {},
     "output_type": "execute_result"
    }
   ],
   "source": [
    "def binary(a):\n",
    "    for i in a:\n",
    "        if i not in [\"0\",\"1\"]:\n",
    "            return False\n",
    "    return True\n",
    "n = input()\n",
    "binary(n)"
   ]
  },
  {
   "cell_type": "markdown",
   "metadata": {},
   "source": [
    "Question 5: program to find uncommon words from two Strings?"
   ]
  },
  {
   "cell_type": "code",
   "execution_count": 6,
   "metadata": {},
   "outputs": [
    {
     "name": "stdout",
     "output_type": "stream",
     "text": [
      "My name is Akash\n",
      "My name is Rohan\n",
      "Akash\n",
      "Rohan\n"
     ]
    }
   ],
   "source": [
    "s = input()\n",
    "y = input()\n",
    "counts = {}\n",
    "for i in s.split():\n",
    "    counts[i] = counts.get(i,0) + 1\n",
    "for j in y.split():\n",
    "    counts[j] = counts.get(j,0) + 1\n",
    "    \n",
    "for k in counts:\n",
    "    if counts[k] == 1:\n",
    "        \n",
    "        print(k)\n",
    "        \n",
    "        \n",
    "            \n",
    "    "
   ]
  },
  {
   "cell_type": "markdown",
   "metadata": {},
   "source": [
    "Question 6: find all duplicate characters in string?"
   ]
  },
  {
   "cell_type": "code",
   "execution_count": 2,
   "metadata": {},
   "outputs": [
    {
     "name": "stdout",
     "output_type": "stream",
     "text": [
      "kjsbfwbeow\n",
      "b\n",
      "w\n"
     ]
    }
   ],
   "source": [
    "s = input()\n",
    "counts = {}\n",
    "for i in s:\n",
    "    counts[i] = counts.get(i,0) + 1\n",
    "for j in counts:\n",
    "    if counts[j] > 1:\n",
    "        print(j)"
   ]
  },
  {
   "cell_type": "markdown",
   "metadata": {},
   "source": [
    "Question 7: Program to check if a string contains any special character?"
   ]
  },
  {
   "cell_type": "code",
   "execution_count": 7,
   "metadata": {},
   "outputs": [
    {
     "name": "stdout",
     "output_type": "stream",
     "text": [
      "fjksfwefqoi51133@\n"
     ]
    },
    {
     "data": {
      "text/plain": [
       "True"
      ]
     },
     "execution_count": 7,
     "metadata": {},
     "output_type": "execute_result"
    }
   ],
   "source": [
    "def special_char(a):\n",
    "    for i in a:\n",
    "        if (i != \" \") and (i.isalnum() == False):\n",
    "            return True\n",
    "    return False\n",
    "a = input()\n",
    "special_char(a)"
   ]
  },
  {
   "cell_type": "code",
   "execution_count": null,
   "metadata": {},
   "outputs": [],
   "source": []
  }
 ],
 "metadata": {
  "kernelspec": {
   "display_name": "Python 3",
   "language": "python",
   "name": "python3"
  },
  "language_info": {
   "codemirror_mode": {
    "name": "ipython",
    "version": 3
   },
   "file_extension": ".py",
   "mimetype": "text/x-python",
   "name": "python",
   "nbconvert_exporter": "python",
   "pygments_lexer": "ipython3",
   "version": "3.8.3"
  }
 },
 "nbformat": 4,
 "nbformat_minor": 4
}
